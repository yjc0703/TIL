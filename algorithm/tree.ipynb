{
 "cells": [
  {
   "cell_type": "code",
   "execution_count": 1,
   "metadata": {},
   "outputs": [],
   "source": [
    "class TreeNode():\r\n",
    "\r\n",
    "    def __init__(self, data = None):\r\n",
    "        self.data = data\r\n",
    "        self.left = None\r\n",
    "        self.right = None\r\n",
    "        "
   ]
  },
  {
   "cell_type": "code",
   "execution_count": 2,
   "metadata": {},
   "outputs": [
    {
     "name": "stdout",
     "output_type": "stream",
     "text": [
      "화사 솔라 문별 "
     ]
    }
   ],
   "source": [
    "class TreeNode():\r\n",
    "\r\n",
    "    def __init__(self, data = None):\r\n",
    "        self.data = data\r\n",
    "        self.left = None\r\n",
    "        self.right = None\r\n",
    "        \r\n",
    "        \r\n",
    "node1 = TreeNode('화사')\r\n",
    "\r\n",
    "node2 = TreeNode('솔라')\r\n",
    "node1.left = node2\r\n",
    "\r\n",
    "node3 = TreeNode('문별')\r\n",
    "node1.right = node3\r\n",
    "\r\n",
    "node4 = TreeNode('휘인')\r\n",
    "node2.left = node4\r\n",
    "\r\n",
    "node5 = TreeNode('쯔위')\r\n",
    "node2.right = node5\r\n",
    "\r\n",
    "node6 = TreeNode('선미')\r\n",
    "node3.left = node5\r\n",
    "\r\n",
    "\r\n",
    "\r\n",
    "print(node1.data, end = ' ')\r\n",
    "print(node1.left.data, end = ' ')\r\n",
    "print(node1.right.data, end = ' ')\r\n"
   ]
  },
  {
   "cell_type": "code",
   "execution_count": 17,
   "metadata": {},
   "outputs": [
    {
     "name": "stdout",
     "output_type": "stream",
     "text": [
      "cannot find 윤재철 3\n"
     ]
    }
   ],
   "source": [
    "## 함수 선언부(클래스 선언)\r\n",
    "class TreeNode():\r\n",
    "\r\n",
    "    def __init__(self, data = None):\r\n",
    "        self.data = data\r\n",
    "        self.left = None\r\n",
    "        self.right = None\r\n",
    "        \r\n",
    "\r\n",
    "## 전역 변수부\r\n",
    "memory = []\r\n",
    "root = None\r\n",
    "nameAry = ['블랙핑크', '레드벨벳', '에이핑크', '걸스데이', '트와이스', '마마무']\r\n",
    "\r\n",
    "## 메인 코드부\r\n",
    "if __name__ == '__main__':\r\n",
    "    node = TreeNode(nameAry[0])\r\n",
    "    root = node\r\n",
    "    memory.append(node)\r\n",
    "\r\n",
    "    for name in nameAry[1:]:\r\n",
    "        node = TreeNode(name)\r\n",
    "        memory.append(node)\r\n",
    "        current = root\r\n",
    "        while True:\r\n",
    "            if name < current.data:\r\n",
    "                if current.left == None:\r\n",
    "                    current.left = node\r\n",
    "                    break\r\n",
    "                current = current.left\r\n",
    "\r\n",
    "            else:\r\n",
    "                if current.right == None:\r\n",
    "                    current.right = node\r\n",
    "                    break\r\n",
    "                current = current.right\r\n",
    "\r\n",
    "\r\n",
    "# find\r\n",
    "count = 0\r\n",
    "findName = '윤재철'\r\n",
    "current = root\r\n",
    "while current.data != findName:\r\n",
    "    count += 1\r\n",
    "    if current.data > findName:\r\n",
    "        current = current.left\r\n",
    "    else:\r\n",
    "        current = current.right\r\n",
    "\r\n",
    "    if current == None:\r\n",
    "        break\r\n",
    "\r\n",
    "if current != None:\r\n",
    "    print('find ' + findName, count)\r\n",
    "else:\r\n",
    "    print('cannot find ' + findName, count)"
   ]
  },
  {
   "cell_type": "code",
   "execution_count": 18,
   "metadata": {},
   "outputs": [
    {
     "name": "stdout",
     "output_type": "stream",
     "text": [
      "완료\n"
     ]
    }
   ],
   "source": [
    "import random\r\n",
    "\r\n",
    "class TreeNode():\r\n",
    "\r\n",
    "    def __init__(self, data):\r\n",
    "        self.data = data\r\n",
    "        self.left = None\r\n",
    "        self.right = None\r\n",
    "\r\n",
    "root = None\r\n",
    "memory = []\r\n",
    "numAry = [random.randint(0, 999) for _ in range(20)]\r\n",
    "\r\n",
    "\r\n",
    "# 루트\r\n",
    "node = TreeNode(numAry[0])\r\n",
    "root = node\r\n",
    "memory.append(node)\r\n",
    "\r\n",
    "for i in numAry[1:]:\r\n",
    "    node = TreeNode(i)\r\n",
    "    current = root\r\n",
    "    while True:\r\n",
    "        if current.data > node.data:\r\n",
    "            if current.left == None:\r\n",
    "                current.left = node\r\n",
    "                memory.append(node)\r\n",
    "                break\r\n",
    "\r\n",
    "            current = current.left\r\n",
    "\r\n",
    "        else:\r\n",
    "            if current.right == None:\r\n",
    "                current.right = node\r\n",
    "                memory.append(node)\r\n",
    "                break\r\n",
    "\r\n",
    "            current = current.right\r\n",
    "\r\n",
    "print('완료')\r\n",
    "\r\n",
    "\r\n"
   ]
  }
 ],
 "metadata": {
  "interpreter": {
   "hash": "b93c0773531358e05777946fbd627043e6f78b0403ffd5f5b13a16409af43351"
  },
  "kernelspec": {
   "display_name": "Python 3.8.8 64-bit ('restDoList': conda)",
   "name": "python3"
  },
  "language_info": {
   "codemirror_mode": {
    "name": "ipython",
    "version": 3
   },
   "file_extension": ".py",
   "mimetype": "text/x-python",
   "name": "python",
   "nbconvert_exporter": "python",
   "pygments_lexer": "ipython3",
   "version": "3.8.8"
  },
  "orig_nbformat": 4
 },
 "nbformat": 4,
 "nbformat_minor": 2
}