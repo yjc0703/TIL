{
 "cells": [
  {
   "cell_type": "code",
   "execution_count": 4,
   "metadata": {},
   "outputs": [
    {
     "name": "stdout",
     "output_type": "stream",
     "text": [
      "[[0, 0, 0, 0], [0, 0, 0, 0], [0, 0, 0, 0], [0, 0, 0, 0]]\n",
      "0  1  1  1  \n",
      "1  0  1  0  \n",
      "1  1  0  1  \n",
      "1  0  1  0  \n"
     ]
    }
   ],
   "source": [
    "## 함수 선언부(클래스 선언)\r\n",
    "class Graph():\r\n",
    "    def __init__(self, size):\r\n",
    "        self.SIZE = size\r\n",
    "        self.graph = [ [0 for _ in range(size)] for _ in range(size)]\r\n",
    "        print(self.graph)\r\n",
    "\r\n",
    "\r\n",
    "## 전역 변수부\r\n",
    "G1 = None\r\n",
    "\r\n",
    "## 메인 코드부\r\n",
    "G1 = Graph(4)\r\n",
    "\r\n",
    "G1.graph[0][1] = 1 # A -> B\r\n",
    "G1.graph[0][2] = 1 # A -> C\r\n",
    "G1.graph[0][3] = 1 # A -> D\r\n",
    "\r\n",
    "G1.graph[1][0] = 1 # B -> A\r\n",
    "G1.graph[1][2] = 1 # B -> C\r\n",
    "\r\n",
    "G1.graph[2][0] = 1 # C -> A\r\n",
    "G1.graph[2][1] = 1 # C -> A\r\n",
    "G1.graph[2][3] = 1 # C -> A\r\n",
    "\r\n",
    "G1.graph[3][0] = 1 # D -> A\r\n",
    "G1.graph[3][2] = 1 # D -> C\r\n",
    "\r\n",
    "for i in range(4):\r\n",
    "    for j in range(4):\r\n",
    "        print(G1.graph[i][j], end = '  ')\r\n",
    "    print()\r\n"
   ]
  },
  {
   "cell_type": "code",
   "execution_count": 5,
   "metadata": {},
   "outputs": [
    {
     "name": "stdout",
     "output_type": "stream",
     "text": [
      "[[0, 0, 0, 0], [0, 0, 0, 0], [0, 0, 0, 0], [0, 0, 0, 0]]\n",
      "0  0  1  1  \n",
      "0  0  1  1  \n",
      "1  1  0  0  \n",
      "1  1  0  0  \n"
     ]
    }
   ],
   "source": [
    "## 함수 선언부(클래스 선언)\r\n",
    "class Graph():\r\n",
    "    def __init__(self, size):\r\n",
    "        self.SIZE = size\r\n",
    "        self.graph = [ [0 for _ in range(size)] for _ in range(size)]\r\n",
    "        print(self.graph)\r\n",
    "\r\n",
    "\r\n",
    "## 전역 변수부\r\n",
    "G1 = None\r\n",
    "\r\n",
    "## 메인 코드부\r\n",
    "G1 = Graph(4)\r\n",
    "\r\n",
    "G1.graph[0][2] = 1 # 가 -> 다\r\n",
    "G1.graph[0][3] = 1 # 가 -> 라\r\n",
    "\r\n",
    "G1.graph[1][2] = 1 # 나 -> 다\r\n",
    "G1.graph[1][3] = 1 # 나 -> 라\r\n",
    "\r\n",
    "G1.graph[2][0] = 1 # 다 -> 가\r\n",
    "G1.graph[2][1] = 1 # 다 -> 나\r\n",
    "\r\n",
    "G1.graph[3][0] = 1 # 라 -> 가\r\n",
    "G1.graph[3][1] = 1 # 라 -> 나\r\n",
    "\r\n",
    "for i in range(4):\r\n",
    "    for j in range(4):\r\n",
    "        print(G1.graph[i][j], end = '  ')\r\n",
    "    print()\r\n"
   ]
  }
 ],
 "metadata": {
  "interpreter": {
   "hash": "b93c0773531358e05777946fbd627043e6f78b0403ffd5f5b13a16409af43351"
  },
  "kernelspec": {
   "display_name": "Python 3.8.8 64-bit ('restDoList': conda)",
   "name": "python3"
  },
  "language_info": {
   "codemirror_mode": {
    "name": "ipython",
    "version": 3
   },
   "file_extension": ".py",
   "mimetype": "text/x-python",
   "name": "python",
   "nbconvert_exporter": "python",
   "pygments_lexer": "ipython3",
   "version": "3.8.8"
  },
  "orig_nbformat": 4
 },
 "nbformat": 4,
 "nbformat_minor": 2
}