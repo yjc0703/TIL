{
 "cells": [
  {
   "cell_type": "code",
   "execution_count": 4,
   "metadata": {},
   "outputs": [
    {
     "name": "stdout",
     "output_type": "stream",
     "text": [
      "['다현', '정연', '쯔위', '사나', '지효']\n"
     ]
    }
   ],
   "source": [
    "katok = []\r\n",
    "\r\n",
    "def add_data(friend):\r\n",
    "    katok.append(None)\r\n",
    "    kLen = len(katok)\r\n",
    "    katok[kLen - 1] = friend\r\n",
    "\r\n",
    "\r\n",
    "add_data('다현')\r\n",
    "add_data('정연')\r\n",
    "add_data('쯔위')\r\n",
    "add_data('사나')\r\n",
    "add_data('지효')\r\n",
    "\r\n",
    "print(katok)"
   ]
  },
  {
   "cell_type": "code",
   "execution_count": 11,
   "metadata": {},
   "outputs": [
    {
     "name": "stdout",
     "output_type": "stream",
     "text": [
      "['다현', '정연', '쏠라', '쯔위', '사나', '지효']\n",
      "['다현', '정연', '쏠라', '쯔위', '사나', '지효', '문별']\n"
     ]
    }
   ],
   "source": [
    "katok = ['다현', '정연', '쯔위', '사나', '지효']\r\n",
    "\r\n",
    "def insert_data(position, friend):\r\n",
    "    katok.append(None)\r\n",
    "    kLen = len(katok)\r\n",
    "    for i in range(kLen - 1, position, -1):\r\n",
    "        katok[i] = katok[i-1]\r\n",
    "        katok[i-1] = None\r\n",
    "\r\n",
    "    katok[position] = friend\r\n",
    "\r\n",
    "insert_data(2, '쏠라')\r\n",
    "print(katok)\r\n",
    "\r\n",
    "insert_data(6, '문별')\r\n",
    "print(katok)"
   ]
  },
  {
   "cell_type": "code",
   "execution_count": 1,
   "metadata": {},
   "outputs": [
    {
     "name": "stdout",
     "output_type": "stream",
     "text": [
      "['다현', '쯔위', '사나', '지효']\n",
      "['다현', '쯔위', '사나']\n"
     ]
    }
   ],
   "source": [
    "katok = ['다현', '정연', '쯔위', '사나', '지효']\r\n",
    "\r\n",
    "def delete_data(position):\r\n",
    "    if position < 0 or position > len(katok):\r\n",
    "        print('데이터를 삭제할 범위를 벗어났습니다.')\r\n",
    "        return\r\n",
    "\r\n",
    "    kLen = len(katok)\r\n",
    "    katok[position] = None\r\n",
    "\r\n",
    "    for i in range(position + 1, kLen):\r\n",
    "        katok[i - 1] = katok[i]\r\n",
    "        katok[i] = None\r\n",
    "\r\n",
    "    del(katok[kLen - 1])\r\n",
    "\r\n",
    "delete_data(1)\r\n",
    "print(katok)\r\n",
    "\r\n",
    "delete_data(3)\r\n",
    "print(katok)\r\n"
   ]
  },
  {
   "cell_type": "code",
   "execution_count": null,
   "metadata": {},
   "outputs": [],
   "source": [
    "## 함수 선언부(클래스 선언)\r\n",
    "\r\n",
    "\r\n",
    "## 전역 변수부\r\n",
    "\r\n",
    "\r\n",
    "## 메인 코드부\r\n",
    "if __name__ == '__main__':\r\n",
    "    pass"
   ]
  },
  {
   "cell_type": "code",
   "execution_count": 2,
   "metadata": {},
   "outputs": [
    {
     "name": "stdout",
     "output_type": "stream",
     "text": [
      "['재철']\n",
      "['재철', '다은']\n",
      "['재철', '다은', '선미']\n",
      "['재철', '다은', '미정', '선미']\n",
      "['재철', '다은', '미정']\n"
     ]
    },
    {
     "ename": "IndexError",
     "evalue": "list assignment index out of range",
     "output_type": "error",
     "traceback": [
      "\u001b[1;31m---------------------------------------------------------------------------\u001b[0m",
      "\u001b[1;31mIndexError\u001b[0m                                Traceback (most recent call last)",
      "\u001b[1;32m<ipython-input-2-d88954f2e008>\u001b[0m in \u001b[0;36m<module>\u001b[1;34m\u001b[0m\n\u001b[0;32m     51\u001b[0m         \u001b[1;32melif\u001b[0m \u001b[0mselect\u001b[0m \u001b[1;33m==\u001b[0m \u001b[1;36m3\u001b[0m\u001b[1;33m:\u001b[0m\u001b[1;33m\u001b[0m\u001b[1;33m\u001b[0m\u001b[0m\n\u001b[0;32m     52\u001b[0m             \u001b[0mpos\u001b[0m \u001b[1;33m=\u001b[0m \u001b[0mint\u001b[0m\u001b[1;33m(\u001b[0m\u001b[0minput\u001b[0m\u001b[1;33m(\u001b[0m\u001b[1;34m'삭제할 위치 : '\u001b[0m\u001b[1;33m)\u001b[0m\u001b[1;33m)\u001b[0m\u001b[1;33m\u001b[0m\u001b[1;33m\u001b[0m\u001b[0m\n\u001b[1;32m---> 53\u001b[1;33m             \u001b[0mdelete_data\u001b[0m\u001b[1;33m(\u001b[0m\u001b[0mpos\u001b[0m\u001b[1;33m)\u001b[0m\u001b[1;33m\u001b[0m\u001b[1;33m\u001b[0m\u001b[0m\n\u001b[0m\u001b[0;32m     54\u001b[0m             \u001b[0mprint\u001b[0m\u001b[1;33m(\u001b[0m\u001b[0mkatok\u001b[0m\u001b[1;33m)\u001b[0m\u001b[1;33m\u001b[0m\u001b[1;33m\u001b[0m\u001b[0m\n\u001b[0;32m     55\u001b[0m         \u001b[1;32melif\u001b[0m \u001b[0mselect\u001b[0m \u001b[1;33m==\u001b[0m \u001b[1;36m4\u001b[0m\u001b[1;33m:\u001b[0m\u001b[1;33m\u001b[0m\u001b[1;33m\u001b[0m\u001b[0m\n",
      "\u001b[1;32m<ipython-input-2-d88954f2e008>\u001b[0m in \u001b[0;36mdelete_data\u001b[1;34m(position)\u001b[0m\n\u001b[0;32m     22\u001b[0m \u001b[1;33m\u001b[0m\u001b[0m\n\u001b[0;32m     23\u001b[0m     \u001b[0mkLen\u001b[0m \u001b[1;33m=\u001b[0m \u001b[0mlen\u001b[0m\u001b[1;33m(\u001b[0m\u001b[0mkatok\u001b[0m\u001b[1;33m)\u001b[0m\u001b[1;33m\u001b[0m\u001b[1;33m\u001b[0m\u001b[0m\n\u001b[1;32m---> 24\u001b[1;33m     \u001b[0mkatok\u001b[0m\u001b[1;33m[\u001b[0m\u001b[0mposition\u001b[0m\u001b[1;33m]\u001b[0m \u001b[1;33m=\u001b[0m \u001b[1;32mNone\u001b[0m\u001b[1;33m\u001b[0m\u001b[1;33m\u001b[0m\u001b[0m\n\u001b[0m\u001b[0;32m     25\u001b[0m \u001b[1;33m\u001b[0m\u001b[0m\n\u001b[0;32m     26\u001b[0m     \u001b[1;32mfor\u001b[0m \u001b[0mi\u001b[0m \u001b[1;32min\u001b[0m \u001b[0mrange\u001b[0m\u001b[1;33m(\u001b[0m\u001b[0mposition\u001b[0m \u001b[1;33m+\u001b[0m \u001b[1;36m1\u001b[0m\u001b[1;33m,\u001b[0m \u001b[0mkLen\u001b[0m\u001b[1;33m)\u001b[0m\u001b[1;33m:\u001b[0m\u001b[1;33m\u001b[0m\u001b[1;33m\u001b[0m\u001b[0m\n",
      "\u001b[1;31mIndexError\u001b[0m: list assignment index out of range"
     ]
    }
   ],
   "source": [
    "## 함수 선언부(클래스 선언)\r\n",
    "def add_data(friend):\r\n",
    "    katok.append(None)\r\n",
    "    kLen = len(katok)\r\n",
    "    katok[kLen - 1] = friend\r\n",
    "\r\n",
    "\r\n",
    "def insert_data(position, friend):\r\n",
    "    katok.append(None)\r\n",
    "    kLen = len(katok)\r\n",
    "    for i in range(kLen - 1, position, -1):\r\n",
    "        katok[i] = katok[i-1]\r\n",
    "        katok[i-1] = None\r\n",
    "\r\n",
    "    katok[position] = friend\r\n",
    "\r\n",
    "\r\n",
    "def delete_data(position):\r\n",
    "    if position < 0 or position > len(katok):\r\n",
    "        print('데이터를 삭제할 범위를 벗어났습니다.')\r\n",
    "        return\r\n",
    "\r\n",
    "    kLen = len(katok)\r\n",
    "    katok[position] = None\r\n",
    "\r\n",
    "    for i in range(position + 1, kLen):\r\n",
    "        katok[i - 1] = katok[i]\r\n",
    "        katok[i] = None\r\n",
    "\r\n",
    "    del(katok[kLen - 1])\r\n",
    "\r\n",
    "## 전역 변수부\r\n",
    "katok = []\r\n",
    "select = -1 # 1: 추가, 2: 삽입, 3: 삭제, 4: 종료\r\n",
    "\r\n",
    "## 메인 코드부\r\n",
    "if __name__ == '__main__':\r\n",
    "    while(select != 4):\r\n",
    "\r\n",
    "        select = int(input('선택하세요 (1: 추가, 2: 삽입, 3: 삭제, 4: 종료) : '))\r\n",
    "\r\n",
    "        if select == 1:\r\n",
    "            data = input('추가할 데이터 : ')\r\n",
    "            add_data(data)\r\n",
    "            print(katok)\r\n",
    "        elif select == 2:\r\n",
    "            pos = int(input('삽입할 위치 : '))\r\n",
    "            data = input('추가할 데이터 : ')\r\n",
    "            insert_data(pos, data)\r\n",
    "            print(katok)\r\n",
    "        elif select == 3:\r\n",
    "            pos = int(input('삭제할 위치 : '))\r\n",
    "            delete_data(pos)\r\n",
    "            print(katok)\r\n",
    "        elif select == 4:\r\n",
    "            print(katok)\r\n",
    "            exit\r\n",
    "        else:\r\n",
    "            print('1 ~ 4 중 하나를 입력하세요')\r\n",
    "            continue\r\n",
    "        \r\n",
    "\r\n",
    "            \r\n",
    "\r\n",
    "\r\n"
   ]
  }
 ],
 "metadata": {
  "interpreter": {
   "hash": "b93c0773531358e05777946fbd627043e6f78b0403ffd5f5b13a16409af43351"
  },
  "kernelspec": {
   "display_name": "Python 3.8.8 64-bit ('restDoList': conda)",
   "name": "python3"
  },
  "language_info": {
   "name": "python",
   "version": ""
  },
  "orig_nbformat": 4
 },
 "nbformat": 4,
 "nbformat_minor": 2
}