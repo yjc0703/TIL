{
 "cells": [
  {
   "cell_type": "code",
   "execution_count": null,
   "metadata": {},
   "outputs": [],
   "source": [
    "## 함수 선언부(클래스 선언)\r\n",
    "\r\n",
    "\r\n",
    "## 전역 변수부\r\n",
    "\r\n",
    "\r\n",
    "## 메인 코드부\r\n",
    "if __name__ == '__main__':\r\n",
    "    pass"
   ]
  },
  {
   "cell_type": "code",
   "execution_count": 7,
   "metadata": {},
   "outputs": [
    {
     "name": "stdout",
     "output_type": "stream",
     "text": [
      "출구 <-- ['화사', '솔라', '문별', None, None] <-- 입구\n",
      "출구 <-- [None, '솔라', '문별', None, None] <-- 입구\n"
     ]
    }
   ],
   "source": [
    "## 함수 선언부(클래스 선언)\r\n",
    "\r\n",
    "## 전역 변수부\r\n",
    "SIZE = 5\r\n",
    "queue = [None for _ in range(SIZE)]\r\n",
    "front, rear = -1, -1\r\n",
    "\r\n",
    "\r\n",
    "## 메인 코드부\r\n",
    "## 삽입\r\n",
    "rear += 1\r\n",
    "queue[rear] = '화사'\r\n",
    "\r\n",
    "rear += 1\r\n",
    "queue[rear] = '솔라'\r\n",
    "\r\n",
    "rear += 1\r\n",
    "queue[rear] = '문별'\r\n",
    "\r\n",
    "print('출구 <--', queue, '<-- 입구')\r\n",
    "\r\n",
    "# 추출\r\n",
    "front += 1\r\n",
    "data = queue[front]\r\n",
    "queue[front] = None\r\n",
    "\r\n",
    "print('출구 <--', queue, '<-- 입구')"
   ]
  },
  {
   "cell_type": "code",
   "execution_count": 13,
   "metadata": {},
   "outputs": [
    {
     "name": "stdout",
     "output_type": "stream",
     "text": [
      "출구 <-- ['화사', None, None, None, None] <-- 입구\n",
      "출구 <-- ['화사', '솔라', None, None, None] <-- 입구\n",
      "출구 <-- [None, '솔라', None, None, None] <-- 입구\n",
      "출구 <-- [None, None, None, None, None] <-- 입구\n"
     ]
    }
   ],
   "source": [
    "## 함수 선언부(클래스 선언)\r\n",
    "def isQueueFull():\r\n",
    "    global SIZE, queue, front, rear\r\n",
    "\r\n",
    "    if rear == SIZE - 1:\r\n",
    "        return True\r\n",
    "    else:\r\n",
    "        return False\r\n",
    "\r\n",
    "def isQueueEmpty():\r\n",
    "    global SIZE, queue, front, rear\r\n",
    "\r\n",
    "    if rear == front:\r\n",
    "        return True\r\n",
    "    else:\r\n",
    "        return False\r\n",
    "\r\n",
    "def enQueue(data):\r\n",
    "    global SIZE, queue, front, rear\r\n",
    "    if isQueueFull():\r\n",
    "        print('Queue 가 꽉 찼습니다.')\r\n",
    "        return\r\n",
    "    \r\n",
    "    rear += 1\r\n",
    "    queue[rear] = data\r\n",
    "\r\n",
    "def deQueue():\r\n",
    "    global SIZE, queue, front, rear\r\n",
    "\r\n",
    "    if isQueueEmpty():\r\n",
    "        print('Queue 가 비어있습니다.')\r\n",
    "        return\r\n",
    "\r\n",
    "    front += 1\r\n",
    "    data = queue[front]\r\n",
    "    queue[front] = None\r\n",
    "    return data\r\n",
    "\r\n",
    "def printQueue():\r\n",
    "    global queue\r\n",
    "    print('출구 <--', queue, '<-- 입구')\r\n",
    "\r\n",
    "## 전역 변수부\r\n",
    "SIZE = 5\r\n",
    "queue = [None for _ in range(SIZE)]\r\n",
    "front, rear = -1, -1\r\n",
    "\r\n",
    "\r\n",
    "## 메인 코드부\r\n",
    "# 삽입\r\n",
    "enQueue('화사')\r\n",
    "printQueue()\r\n",
    "\r\n",
    "enQueue('솔라')\r\n",
    "printQueue()\r\n",
    "\r\n",
    "# 추출\r\n",
    "deQueue()\r\n",
    "printQueue()\r\n",
    "\r\n",
    "deQueue()\r\n",
    "printQueue()\r\n"
   ]
  },
  {
   "cell_type": "code",
   "execution_count": null,
   "metadata": {},
   "outputs": [],
   "source": []
  }
 ],
 "metadata": {
  "interpreter": {
   "hash": "b93c0773531358e05777946fbd627043e6f78b0403ffd5f5b13a16409af43351"
  },
  "kernelspec": {
   "display_name": "Python 3.8.8 64-bit ('restDoList': conda)",
   "name": "python3"
  },
  "language_info": {
   "codemirror_mode": {
    "name": "ipython",
    "version": 3
   },
   "file_extension": ".py",
   "mimetype": "text/x-python",
   "name": "python",
   "nbconvert_exporter": "python",
   "pygments_lexer": "ipython3",
   "version": "3.8.8"
  },
  "orig_nbformat": 4
 },
 "nbformat": 4,
 "nbformat_minor": 2
}