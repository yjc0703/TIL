{
 "cells": [
  {
   "cell_type": "code",
   "execution_count": 6,
   "metadata": {},
   "outputs": [
    {
     "name": "stdout",
     "output_type": "stream",
     "text": [
      "['커피', '녹차', '꿀물', None, None]\n",
      "팝 --> 꿀물\n",
      "팝 --> 녹차\n",
      "팝 --> 커피\n",
      "[None, None, None, None, None]\n"
     ]
    }
   ],
   "source": [
    "stack = [None, None, None, None, None]\r\n",
    "top = -1\r\n",
    "\r\n",
    "top += 1\r\n",
    "stack[top] = \"커피\"\r\n",
    "\r\n",
    "top += 1\r\n",
    "stack[top] = \"녹차\"\r\n",
    "\r\n",
    "top += 1\r\n",
    "stack[top] = \"꿀물\"\r\n",
    "\r\n",
    "print(stack)\r\n",
    "\r\n",
    "data = stack[top]\r\n",
    "print('팝 --> ' + data)\r\n",
    "stack[top] = None\r\n",
    "top -= 1\r\n",
    "\r\n",
    "data = stack[top]\r\n",
    "print('팝 --> ' + data)\r\n",
    "stack[top] = None\r\n",
    "top -= 1\r\n",
    "\r\n",
    "data = stack[top]\r\n",
    "print('팝 --> ' + data)\r\n",
    "stack[top] = None\r\n",
    "top -= 1\r\n",
    "\r\n",
    "print(stack)\r\n",
    "\r\n"
   ]
  },
  {
   "cell_type": "code",
   "execution_count": 14,
   "metadata": {},
   "outputs": [
    {
     "name": "stdout",
     "output_type": "stream",
     "text": [
      "['커피', '녹차', '꿀물', '콜라', '환타']\n",
      "스택이 꽉 찼습니다.\n",
      "환타\n",
      "['커피', '녹차', '꿀물', '콜라', None]\n",
      "콜라\n",
      "['커피', '녹차', '꿀물', None, None]\n",
      "꿀물\n",
      "['커피', '녹차', None, None, None]\n",
      "녹차\n",
      "['커피', None, None, None, None]\n",
      "커피\n",
      "[None, None, None, None, None]\n",
      "스택이 비었습니다.\n",
      "None\n",
      "[None, None, None, None, None]\n"
     ]
    }
   ],
   "source": [
    "## 함수 선언부(클래스 선언)\r\n",
    "def isStackFull():\r\n",
    "\r\n",
    "    global SIZE, stack, top\r\n",
    "    if top == SIZE - 1:\r\n",
    "        return True\r\n",
    "    else:\r\n",
    "        return False\r\n",
    "\r\n",
    "def isStackEmpty():\r\n",
    "\r\n",
    "    global SIZE, stack, top\r\n",
    "    if top == -1:\r\n",
    "        return True\r\n",
    "    else:\r\n",
    "        return False\r\n",
    "\r\n",
    "def push(data):\r\n",
    "    global SIZE, stack, top\r\n",
    "    if isStackFull():\r\n",
    "        print('스택이 꽉 찼습니다.')\r\n",
    "        return \r\n",
    "\r\n",
    "    else:\r\n",
    "        top += 1\r\n",
    "        stack[top] = data\r\n",
    "\r\n",
    "def pop():\r\n",
    "    global SIZE, stack, top\r\n",
    "    if isStackEmpty():\r\n",
    "        print('스택이 비었습니다.')\r\n",
    "        return \r\n",
    "\r\n",
    "    data = stack[top]\r\n",
    "    stack[top] = None\r\n",
    "    top -= 1\r\n",
    "\r\n",
    "    return data\r\n",
    "\r\n",
    "## 전역 변수부\r\n",
    "SIZE = 5\r\n",
    "stack = [None for _ in range(SIZE)]\r\n",
    "top = -1\r\n",
    "\r\n",
    "\r\n",
    "## 메인 코드부\r\n",
    "# stack = ['커피', '녹차', '꿀물', '콜라', '환타']\r\n",
    "# top = 4\r\n",
    "# print('스택이 꽉 찼는지? ', isStackFull())\r\n",
    "push('커피')\r\n",
    "push('녹차')\r\n",
    "push('꿀물')\r\n",
    "push('콜라')\r\n",
    "push('환타')\r\n",
    "print(stack)\r\n",
    "push('미란다')\r\n",
    "\r\n",
    "print(pop())\r\n",
    "print(stack)\r\n",
    "print(pop())\r\n",
    "print(stack)\r\n",
    "print(pop())\r\n",
    "print(stack)\r\n",
    "print(pop())\r\n",
    "print(stack)\r\n",
    "print(pop())\r\n",
    "print(stack)\r\n",
    "print(pop())\r\n",
    "print(stack)\r\n",
    "\r\n"
   ]
  }
 ],
 "metadata": {
  "interpreter": {
   "hash": "b93c0773531358e05777946fbd627043e6f78b0403ffd5f5b13a16409af43351"
  },
  "kernelspec": {
   "display_name": "Python 3.8.8 64-bit ('restDoList': conda)",
   "name": "python3"
  },
  "language_info": {
   "codemirror_mode": {
    "name": "ipython",
    "version": 3
   },
   "file_extension": ".py",
   "mimetype": "text/x-python",
   "name": "python",
   "nbconvert_exporter": "python",
   "pygments_lexer": "ipython3",
   "version": "3.8.8"
  },
  "orig_nbformat": 4
 },
 "nbformat": 4,
 "nbformat_minor": 2
}